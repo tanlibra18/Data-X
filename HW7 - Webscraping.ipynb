{
 "cells": [
  {
   "cell_type": "markdown",
   "metadata": {},
   "source": [
    "# Data-X Spring 2019: Homework 7\n",
    "\n",
    "### Webscraping\n",
    "\n",
    "\n",
    "\n",
    "In this homework, you will do some exercises with web-scraping."
   ]
  },
  {
   "cell_type": "markdown",
   "metadata": {},
   "source": [
    "## Name: Junyan Tan\n",
    "\n",
    "## SID: 3033370095\n",
    "\n"
   ]
  },
  {
   "cell_type": "markdown",
   "metadata": {},
   "source": [
    "### Fun with Webscraping & Text manipulation\n"
   ]
  },
  {
   "cell_type": "markdown",
   "metadata": {
    "collapsed": true
   },
   "source": [
    "## 1. Statistics in Presidential Debates\n",
    "\n",
    "Your first task is to scrape Presidential Debates from the Commission of Presidential Debates website: https://www.debates.org/voter-education/debate-transcripts/\n",
    "\n",
    "To do this, you are not allowed to manually look up the URLs that you need, instead you have to scrape them. The root url to be scraped is the one listed above, namely: https://www.debates.org/voter-education/debate-transcripts/\n",
    "\n",
    "\n",
    "1. By using `requests` and `BeautifulSoup` find all the links / URLs on the website that links to transcriptions of **First Presidential Debates** from the years [1988, 1984, 1976, 1960]. In total you should find 4 links / URLs that fulfill this criteria. **Print the urls.**\n",
    "\n",
    "2. When you have a list of the URLs your task is to create a Data Frame with some statistics (see example of output below):\n",
    "    1. Scrape the title of each link and use that as the column name in your Data Frame. \n",
    "    2. Count how long the transcript of the debate is (as in the number of characters in transcription string). Feel free to include `\\` characters in your count, but remove any breakline characters, i.e. `\\n`. You will get credit if your count is +/- 10% from our result.\n",
    "    3. Count how many times the word **war** was used in the different debates. Note that you have to convert the text in a smart way (to not count the word **warranty** for example, but counting **war.**, **war!**, **war,** or **War** etc.\n",
    "    4. Also scrape the most common used word in the debate, and write how many times it was used. Note that you have to use the same strategy as in C in order to do this.\n",
    "    \n",
    "    **Print your final output result.**\n",
    "    \n",
    "**Tips:**\n",
    "\n",
    "___\n",
    "\n",
    "In order to solve the questions above, it can be useful to work with Regular Expressions and explore methods on strings like `.strip(), .replace(), .find(), .count(), .lower()` etc. Both are very powerful tools to do string processing in Python. To count common words for example I used a `Counter` object and a Regular expression pattern for only words, see example:\n",
    "\n",
    "```python\n",
    "    from collections import Counter\n",
    "    import re\n",
    "\n",
    "    counts = Counter(re.findall(r\"[\\w']+\", text.lower()))\n",
    "```\n",
    "\n",
    "Read more about Regular Expressions here: https://docs.python.org/3/howto/regex.html\n",
    "    \n",
    "    \n",
    "**Example output of all of the answers to Question 1.2:**\n",
    "\n",
    "\n",
    "![pres_stats_2](https://github.com/ikhlaqsidhu/data-x/raw/master/x-archive/misc/hw2_imgs_spring2018/presidents_stats_2.jpg)\n",
    "\n",
    "\n",
    "\n",
    "----\n",
    "\n",
    ".\n",
    "\n",
    "\n"
   ]
  },
  {
   "cell_type": "code",
   "execution_count": 1,
   "metadata": {},
   "outputs": [],
   "source": [
    "# Import libraries\n",
    "import requests\n",
    "import bs4 as bs\n",
    "import pandas as pd\n",
    "from collections import Counter\n",
    "import re\n",
    "import numpy as np"
   ]
  },
  {
   "cell_type": "code",
   "execution_count": 2,
   "metadata": {},
   "outputs": [],
   "source": [
    "# Get sources from the website\n",
    "source = requests.get('https://www.debates.org/voter-education/debate-transcripts/').content\n",
    "soup = bs.BeautifulSoup(source, features='html.parser')"
   ]
  },
  {
   "cell_type": "code",
   "execution_count": 4,
   "metadata": {},
   "outputs": [
    {
     "data": {
      "text/plain": [
       "['https://www.debates.org/voter-education/debate-transcripts/september-25-1988-debate-transcript/',\n",
       " 'https://www.debates.org/voter-education/debate-transcripts/october-7-1984-debate-transcript/',\n",
       " 'https://www.debates.org/voter-education/debate-transcripts/september-23-1976-debate-transcript/',\n",
       " 'https://www.debates.org/voter-education/debate-transcripts/september-26-1960-debate-transcript/']"
      ]
     },
     "metadata": {},
     "output_type": "display_data"
    },
    {
     "data": {
      "text/plain": [
       "['September 25, 1988: The First Bush-Dukakis Presidential Debate',\n",
       " 'October 7, 1984: The First Reagan-Mondale Presidential Debate',\n",
       " 'September 23, 1976: The First Carter-Ford Presidential Debate',\n",
       " 'September 26, 1960: The First Kennedy-Nixon Presidential Debate']"
      ]
     },
     "metadata": {},
     "output_type": "display_data"
    }
   ],
   "source": [
    "\"\"\"\n",
    "1. Find all the links / URLs on the website that links to transcriptions \n",
    "of First Presidential Debates from the years [1988, 1984, 1976, 1960].\n",
    "2A. Scrape the title of each link and use that as the column name in your Data Frame\n",
    "\"\"\"\n",
    "links = []\n",
    "ID = ['1988', '1984', '1976', '1960']\n",
    "titles = []\n",
    "for url in soup.find_all('a'):\n",
    "    link = url.get('href')\n",
    "    for i in ID:\n",
    "        if i in link:\n",
    "            if 'First' in url.text:\n",
    "                links.append('https://www.debates.org' + link)\n",
    "                titles.append(url.text)\n",
    "display(links)\n",
    "display(titles)"
   ]
  },
  {
   "cell_type": "code",
   "execution_count": 8,
   "metadata": {},
   "outputs": [
    {
     "data": {
      "text/plain": [
       "[88005, 87135, 80969, 61120]"
      ]
     },
     "metadata": {},
     "output_type": "display_data"
    },
    {
     "data": {
      "text/plain": [
       "[Counter({'war': 8}),\n",
       " Counter({'war': 2}),\n",
       " Counter({'war': 7}),\n",
       " Counter({'war': 3})]"
      ]
     },
     "metadata": {},
     "output_type": "display_data"
    },
    {
     "data": {
      "text/plain": [
       "[[('the', 800)], [('the', 868)], [('the', 857)], [('the', 780)]]"
      ]
     },
     "metadata": {},
     "output_type": "display_data"
    }
   ],
   "source": [
    "\"\"\"\n",
    "2B. Count how long the transcript of the debate is (as in the number of characters in transcription string). \n",
    "    Feel free to include \\ characters in your count, but remove any breakline characters,\n",
    "    i.e. \\n. You will get credit if your count is +/- 10% from our result.\n",
    "2C. Count how many times the word war was used in the different debates. Note that you have to \n",
    "    convert the text in a smart way \n",
    "   (to not count the word warranty for example, but counting war., war!, war, or War etc.\n",
    "2D. Also scrape the most common used word in the debate, and write how many times it was used. \n",
    "    Note that you have to use the same strategy as in C in order to do this.\n",
    "\"\"\"\n",
    "\n",
    "num_chars = []\n",
    "num_wars = []\n",
    "num_words = []\n",
    "for link in links:\n",
    "    source_i = requests.get(link).content\n",
    "    soup_i = bs.BeautifulSoup(source_i, features='html.parser')\n",
    "    num_chars.append(len(re.sub(r\"<.*?>\", \"\", str(soup_i.find_all('p'))).replace(\"\\n\", \"\").replace(\"\\r\", \"\")\n",
    "                         .replace(\"[\", \"\").replace(\"]\", \"\")))\n",
    "    counts_war = Counter(re.findall(r\"\\bwar\\b\", str(soup_i.find_all('p')).lower()))\n",
    "    num_wars.append(counts_war)\n",
    "    counts_word = Counter(soup_i.text.lower().split()).most_common(1)\n",
    "    num_words.append(counts_word)\n",
    "\n",
    "display(num_chars)\n",
    "display(num_wars)\n",
    "display(num_words)"
   ]
  },
  {
   "cell_type": "code",
   "execution_count": 9,
   "metadata": {},
   "outputs": [
    {
     "data": {
      "text/html": [
       "<div>\n",
       "<style scoped>\n",
       "    .dataframe tbody tr th:only-of-type {\n",
       "        vertical-align: middle;\n",
       "    }\n",
       "\n",
       "    .dataframe tbody tr th {\n",
       "        vertical-align: top;\n",
       "    }\n",
       "\n",
       "    .dataframe thead th {\n",
       "        text-align: right;\n",
       "    }\n",
       "</style>\n",
       "<table border=\"1\" class=\"dataframe\">\n",
       "  <thead>\n",
       "    <tr style=\"text-align: right;\">\n",
       "      <th></th>\n",
       "      <th>September 25, 1988: The First Bush-Dukakis Presidential Debate</th>\n",
       "      <th>October 7, 1984: The First Reagan-Mondale Presidential Debate</th>\n",
       "      <th>September 23, 1976: The First Carter-Ford Presidential Debate</th>\n",
       "      <th>September 26, 1960: The First Kennedy-Nixon Presidential Debate</th>\n",
       "    </tr>\n",
       "  </thead>\n",
       "  <tbody>\n",
       "    <tr>\n",
       "      <th>Debate char length</th>\n",
       "      <td>88005</td>\n",
       "      <td>87135</td>\n",
       "      <td>80969</td>\n",
       "      <td>61120</td>\n",
       "    </tr>\n",
       "    <tr>\n",
       "      <th>war_count</th>\n",
       "      <td>8</td>\n",
       "      <td>2</td>\n",
       "      <td>7</td>\n",
       "      <td>3</td>\n",
       "    </tr>\n",
       "    <tr>\n",
       "      <th>most_common_w</th>\n",
       "      <td>the</td>\n",
       "      <td>the</td>\n",
       "      <td>the</td>\n",
       "      <td>the</td>\n",
       "    </tr>\n",
       "    <tr>\n",
       "      <th>most_common_w_count</th>\n",
       "      <td>800</td>\n",
       "      <td>868</td>\n",
       "      <td>857</td>\n",
       "      <td>780</td>\n",
       "    </tr>\n",
       "  </tbody>\n",
       "</table>\n",
       "</div>"
      ],
      "text/plain": [
       "                    September 25, 1988: The First Bush-Dukakis Presidential Debate  \\\n",
       "Debate char length                                               88005               \n",
       "war_count                                                            8               \n",
       "most_common_w                                                      the               \n",
       "most_common_w_count                                                800               \n",
       "\n",
       "                    October 7, 1984: The First Reagan-Mondale Presidential Debate  \\\n",
       "Debate char length                                               87135              \n",
       "war_count                                                            2              \n",
       "most_common_w                                                      the              \n",
       "most_common_w_count                                                868              \n",
       "\n",
       "                    September 23, 1976: The First Carter-Ford Presidential Debate  \\\n",
       "Debate char length                                               80969              \n",
       "war_count                                                            7              \n",
       "most_common_w                                                      the              \n",
       "most_common_w_count                                                857              \n",
       "\n",
       "                    September 26, 1960: The First Kennedy-Nixon Presidential Debate  \n",
       "Debate char length                                               61120               \n",
       "war_count                                                            3               \n",
       "most_common_w                                                      the               \n",
       "most_common_w_count                                                780               "
      ]
     },
     "execution_count": 9,
     "metadata": {},
     "output_type": "execute_result"
    }
   ],
   "source": [
    "# Create a dataframe\n",
    "\n",
    "debates = pd.DataFrame(columns=titles, index=[\"Debate char length\", \"war_count\", \n",
    "                                              \"most_common_w\", \"most_common_w_count\"])\n",
    "debates.loc[\"Debate char length\"] = num_chars\n",
    "debates.loc[\"war_count\"] = [8, 2, 7, 3]\n",
    "debates.loc[\"most_common_w\"] = [\"the\", \"the\", \"the\", \"the\"]\n",
    "debates.loc[\"most_common_w_count\"] = [800, 868, 857, 780]\n",
    "debates"
   ]
  },
  {
   "cell_type": "markdown",
   "metadata": {},
   "source": [
    "    \n",
    "## 2. Download and read in specific line from many data sets\n",
    "\n",
    "Scrape the first 27 data sets from this URL http://people.sc.fsu.edu/~jburkardt/datasets/regression/ (i.e.`x01.txt` - `x27.txt`). Then, save the 5th line in each data set, this should be the name of the data set author (get rid of the `#` symbol, the white spaces and the comma at the end). \n",
    "\n",
    "Count how many times (with a Python function) each author is the reference for one of the 27 data sets. Showcase your results, sorted, with the most common author name first and how many times he appeared in data sets. Use a Pandas DataFrame to show your results, see example. **Print your final output result.**\n",
    "\n",
    "**Example output of the answer for Question 2:**\n",
    "\n",
    "![author_stats](https://github.com/ikhlaqsidhu/data-x/raw/master/x-archive/misc/hw2_imgs_spring2018/data_authors.png)\n"
   ]
  },
  {
   "cell_type": "code",
   "execution_count": 10,
   "metadata": {},
   "outputs": [],
   "source": [
    "source2 = requests.get('http://people.sc.fsu.edu/~jburkardt/datasets/regression/').content\n",
    "soup2 = bs.BeautifulSoup(source2, features='html.parser')"
   ]
  },
  {
   "cell_type": "code",
   "execution_count": 11,
   "metadata": {},
   "outputs": [
    {
     "data": {
      "text/plain": [
       "['http://people.sc.fsu.edu/~jburkardt/datasets/regression/x01.txt',\n",
       " 'http://people.sc.fsu.edu/~jburkardt/datasets/regression/x02.txt',\n",
       " 'http://people.sc.fsu.edu/~jburkardt/datasets/regression/x03.txt',\n",
       " 'http://people.sc.fsu.edu/~jburkardt/datasets/regression/x04.txt',\n",
       " 'http://people.sc.fsu.edu/~jburkardt/datasets/regression/x05.txt',\n",
       " 'http://people.sc.fsu.edu/~jburkardt/datasets/regression/x06.txt',\n",
       " 'http://people.sc.fsu.edu/~jburkardt/datasets/regression/x07.txt',\n",
       " 'http://people.sc.fsu.edu/~jburkardt/datasets/regression/x08.txt',\n",
       " 'http://people.sc.fsu.edu/~jburkardt/datasets/regression/x09.txt',\n",
       " 'http://people.sc.fsu.edu/~jburkardt/datasets/regression/x10.txt',\n",
       " 'http://people.sc.fsu.edu/~jburkardt/datasets/regression/x11.txt',\n",
       " 'http://people.sc.fsu.edu/~jburkardt/datasets/regression/x12.txt',\n",
       " 'http://people.sc.fsu.edu/~jburkardt/datasets/regression/x13.txt',\n",
       " 'http://people.sc.fsu.edu/~jburkardt/datasets/regression/x14.txt',\n",
       " 'http://people.sc.fsu.edu/~jburkardt/datasets/regression/x15.txt',\n",
       " 'http://people.sc.fsu.edu/~jburkardt/datasets/regression/x16.txt',\n",
       " 'http://people.sc.fsu.edu/~jburkardt/datasets/regression/x17.txt',\n",
       " 'http://people.sc.fsu.edu/~jburkardt/datasets/regression/x18.txt',\n",
       " 'http://people.sc.fsu.edu/~jburkardt/datasets/regression/x19.txt',\n",
       " 'http://people.sc.fsu.edu/~jburkardt/datasets/regression/x20.txt',\n",
       " 'http://people.sc.fsu.edu/~jburkardt/datasets/regression/x21.txt',\n",
       " 'http://people.sc.fsu.edu/~jburkardt/datasets/regression/x22.txt',\n",
       " 'http://people.sc.fsu.edu/~jburkardt/datasets/regression/x23.txt',\n",
       " 'http://people.sc.fsu.edu/~jburkardt/datasets/regression/x24.txt',\n",
       " 'http://people.sc.fsu.edu/~jburkardt/datasets/regression/x25.txt',\n",
       " 'http://people.sc.fsu.edu/~jburkardt/datasets/regression/x26.txt',\n",
       " 'http://people.sc.fsu.edu/~jburkardt/datasets/regression/x27.txt']"
      ]
     },
     "execution_count": 11,
     "metadata": {},
     "output_type": "execute_result"
    }
   ],
   "source": [
    "# Scrape the first 27 data sets\n",
    "\n",
    "txts = []\n",
    "for url in soup2.find_all('a'):\n",
    "    txt = url.get('href')\n",
    "    if 'txt' in txt:\n",
    "        txts.append(\"http://people.sc.fsu.edu/~jburkardt/datasets/regression/\" + txt)\n",
    "txts = txts[0:27]\n",
    "txts"
   ]
  },
  {
   "cell_type": "code",
   "execution_count": 12,
   "metadata": {},
   "outputs": [],
   "source": [
    "\"\"\"\n",
    "Save the 5th line in each data set, this should be the name of the data set author \n",
    "    (get rid of the # symbol, the white spaces and the comma at the end).\n",
    "\"\"\"\n",
    "\n",
    "names = []\n",
    "for link in txts:\n",
    "    source_n = requests.get(link).content\n",
    "    soup_n = bs.BeautifulSoup(source_n, features='html.parser')\n",
    "    names.append(re.sub(r\"^#\\s*\", \"\", soup_n.text.split(\"\\n\")[4]).replace(\",\", \"\"))"
   ]
  },
  {
   "cell_type": "code",
   "execution_count": 13,
   "metadata": {},
   "outputs": [
    {
     "data": {
      "text/plain": [
       "['Helmut Spaeth',\n",
       " 'Helmut Spaeth',\n",
       " 'Helmut Spaeth',\n",
       " 'Helmut Spaeth',\n",
       " 'Helmut Spaeth',\n",
       " 'R J Freund and P D Minton',\n",
       " 'D G Kleinbaum and L L Kupper',\n",
       " 'Helmut Spaeth',\n",
       " 'D G Kleinbaum and L L Kupper',\n",
       " 'K A Brownlee',\n",
       " 'Helmut Spaeth',\n",
       " 'Helmut Spaeth',\n",
       " 'S Chatterjee and B Price',\n",
       " 'Helmut Spaeth',\n",
       " 'Helmut Spaeth',\n",
       " 'Helmut Spaeth',\n",
       " 'Helmut Spaeth',\n",
       " 'Helmut Spaeth',\n",
       " 'R J Freund and P D Minton',\n",
       " 'Helmut Spaeth',\n",
       " 'Helmut Spaeth',\n",
       " 'Helmut Spaeth',\n",
       " 'S Chatterjee B Price',\n",
       " 'S Chatterjee B Price',\n",
       " 'S Chatterjee B Price',\n",
       " 'S C Narula J F Wellington',\n",
       " 'S C Narula J F Wellington']"
      ]
     },
     "execution_count": 13,
     "metadata": {},
     "output_type": "execute_result"
    }
   ],
   "source": [
    "names"
   ]
  },
  {
   "cell_type": "code",
   "execution_count": 14,
   "metadata": {},
   "outputs": [
    {
     "data": {
      "text/plain": [
       "[('Helmut Spaeth', 16),\n",
       " ('S Chatterjee B Price', 3),\n",
       " ('R J Freund and P D Minton', 2),\n",
       " ('D G Kleinbaum and L L Kupper', 2),\n",
       " ('S C Narula J F Wellington', 2),\n",
       " ('K A Brownlee', 1),\n",
       " ('S Chatterjee and B Price', 1)]"
      ]
     },
     "execution_count": 14,
     "metadata": {},
     "output_type": "execute_result"
    }
   ],
   "source": [
    "\"\"\"\n",
    "Count how many times (with a Python function) each author is the reference for one of the 27 data sets. \n",
    "    Showcase your results, sorted, with the most common author name first and how many times he appeared in data sets.\n",
    "    Create a panda dataframe for the result.\n",
    "\"\"\"\n",
    "\n",
    "names_count = Counter(names).most_common(7)\n",
    "names_count"
   ]
  },
  {
   "cell_type": "code",
   "execution_count": 25,
   "metadata": {},
   "outputs": [
    {
     "data": {
      "text/html": [
       "<div>\n",
       "<style scoped>\n",
       "    .dataframe tbody tr th:only-of-type {\n",
       "        vertical-align: middle;\n",
       "    }\n",
       "\n",
       "    .dataframe tbody tr th {\n",
       "        vertical-align: top;\n",
       "    }\n",
       "\n",
       "    .dataframe thead th {\n",
       "        text-align: right;\n",
       "    }\n",
       "</style>\n",
       "<table border=\"1\" class=\"dataframe\">\n",
       "  <thead>\n",
       "    <tr style=\"text-align: right;\">\n",
       "      <th></th>\n",
       "      <th>Counts</th>\n",
       "    </tr>\n",
       "    <tr>\n",
       "      <th>Authors</th>\n",
       "      <th></th>\n",
       "    </tr>\n",
       "  </thead>\n",
       "  <tbody>\n",
       "    <tr>\n",
       "      <th>Helmut Spaeth</th>\n",
       "      <td>16</td>\n",
       "    </tr>\n",
       "    <tr>\n",
       "      <th>S Chatterjee B Price</th>\n",
       "      <td>3</td>\n",
       "    </tr>\n",
       "    <tr>\n",
       "      <th>R J Freund and P D Minton</th>\n",
       "      <td>2</td>\n",
       "    </tr>\n",
       "    <tr>\n",
       "      <th>D G Kleinbaum and L L Kupper</th>\n",
       "      <td>2</td>\n",
       "    </tr>\n",
       "    <tr>\n",
       "      <th>S C Narula J F Wellington</th>\n",
       "      <td>2</td>\n",
       "    </tr>\n",
       "    <tr>\n",
       "      <th>K A Brownlee</th>\n",
       "      <td>1</td>\n",
       "    </tr>\n",
       "    <tr>\n",
       "      <th>S Chatterjee and B Price</th>\n",
       "      <td>1</td>\n",
       "    </tr>\n",
       "  </tbody>\n",
       "</table>\n",
       "</div>"
      ],
      "text/plain": [
       "                              Counts\n",
       "Authors                             \n",
       "Helmut Spaeth                     16\n",
       "S Chatterjee B Price               3\n",
       "R J Freund and P D Minton          2\n",
       "D G Kleinbaum and L L Kupper       2\n",
       "S C Narula J F Wellington          2\n",
       "K A Brownlee                       1\n",
       "S Chatterjee and B Price           1"
      ]
     },
     "execution_count": 25,
     "metadata": {},
     "output_type": "execute_result"
    }
   ],
   "source": [
    "author_tbl = pd.DataFrame(names_count, columns={\"Authors\", \"Counts\"})\n",
    "author_tbl.loc[:, ['Authors','Counts']] = author_tbl.loc[:, ['Counts','Authors']].values\n",
    "author_tbl.set_index(\"Authors\")"
   ]
  },
  {
   "cell_type": "code",
   "execution_count": null,
   "metadata": {},
   "outputs": [],
   "source": []
  }
 ],
 "metadata": {
  "kernel_info": {
   "name": "data-x"
  },
  "kernelspec": {
   "display_name": "Python 3",
   "language": "python",
   "name": "python3"
  },
  "language_info": {
   "codemirror_mode": {
    "name": "ipython",
    "version": 3
   },
   "file_extension": ".py",
   "mimetype": "text/x-python",
   "name": "python",
   "nbconvert_exporter": "python",
   "pygments_lexer": "ipython3",
   "version": "3.6.7"
  },
  "nteract": {
   "version": "0.7.1"
  }
 },
 "nbformat": 4,
 "nbformat_minor": 2
}
